{
 "cells": [
  {
   "cell_type": "code",
   "execution_count": 1,
   "id": "dd6d6667",
   "metadata": {},
   "outputs": [
    {
     "name": "stdout",
     "output_type": "stream",
     "text": [
      "2.4.0\n",
      "None\n",
      "False\n"
     ]
    }
   ],
   "source": [
    "import torch\n",
    "print(torch.__version__)\n",
    "print(torch.version.cuda)\n",
    "print(torch.cuda.is_available())"
   ]
  },
  {
   "cell_type": "code",
   "execution_count": 3,
   "id": "9ff87016",
   "metadata": {},
   "outputs": [
    {
     "name": "stdout",
     "output_type": "stream",
     "text": [
      "2.1.2+pt24cpu\n"
     ]
    }
   ],
   "source": [
    "import torch_scatter\n",
    "print(torch_scatter.__version__)"
   ]
  },
  {
   "cell_type": "code",
   "execution_count": 3,
   "id": "27c688aa",
   "metadata": {},
   "outputs": [
    {
     "data": {
      "text/plain": [
       "'A'"
      ]
     },
     "execution_count": 3,
     "metadata": {},
     "output_type": "execute_result"
    }
   ],
   "source": [
    "from Bio.SeqUtils import seq1\n",
    "\n",
    "seq1(\"ALA\")\n"
   ]
  },
  {
   "cell_type": "code",
   "execution_count": 3,
   "id": "35e8af25",
   "metadata": {},
   "outputs": [
    {
     "name": "stdout",
     "output_type": "stream",
     "text": [
      "Thư mục hiện tại: d:\\Học tập\\Lab314\\KhoaLuan\\MODELS\\Models\\ViSDIFF\n",
      "sys.path: ['c:\\\\Users\\\\admin\\\\anaconda3\\\\envs\\\\lab314\\\\python310.zip', 'c:\\\\Users\\\\admin\\\\anaconda3\\\\envs\\\\lab314\\\\DLLs', 'c:\\\\Users\\\\admin\\\\anaconda3\\\\envs\\\\lab314\\\\lib', 'c:\\\\Users\\\\admin\\\\anaconda3\\\\envs\\\\lab314', '', 'c:\\\\Users\\\\admin\\\\anaconda3\\\\envs\\\\lab314\\\\lib\\\\site-packages', 'c:\\\\Users\\\\admin\\\\anaconda3\\\\envs\\\\lab314\\\\lib\\\\site-packages\\\\win32', 'c:\\\\Users\\\\admin\\\\anaconda3\\\\envs\\\\lab314\\\\lib\\\\site-packages\\\\win32\\\\lib', 'c:\\\\Users\\\\admin\\\\anaconda3\\\\envs\\\\lab314\\\\lib\\\\site-packages\\\\Pythonwin']\n",
      "Lỗi import: No module named 'utils'\n"
     ]
    }
   ],
   "source": [
    "import sys\n",
    "import os\n",
    "# In thư mục hiện tại và sys.path để kiểm tra\n",
    "print(\"Thư mục hiện tại:\", os.getcwd())\n",
    "print(\"sys.path:\", sys.path)\n",
    "# Thử import module\n",
    "try:\n",
    "    from src.utils.molecule_builder import build_molecule\n",
    "    print(\"Import thành công!\")\n",
    "except ModuleNotFoundError as e:\n",
    "    print(\"Lỗi import:\", e)"
   ]
  },
  {
   "cell_type": "code",
   "execution_count": 3,
   "id": "5a0cda02",
   "metadata": {},
   "outputs": [
    {
     "data": {
      "text/plain": [
       "<function src.utils.molecule_builder.build_molecule(positions, atom_types, dataset_info, add_coords=False, use_openbabel=True)>"
      ]
     },
     "execution_count": 3,
     "metadata": {},
     "output_type": "execute_result"
    }
   ],
   "source": [
    "from src.utils.molecule_builder import bond_dict\n",
    "bond_dict\n",
    "from src.utils.molecule_builder import build_molecule\n",
    "build_molecule\n"
   ]
  },
  {
   "cell_type": "code",
   "execution_count": 3,
   "id": "efb288d1",
   "metadata": {},
   "outputs": [
    {
     "name": "stdout",
     "output_type": "stream",
     "text": [
      "Number of entries: 184057\n",
      "First few entries: [('1B57_HUMAN_25_300_0/5u98_D_rec_5u98_1kx_lig_tt_min_0_pocket10.pdb', '1B57_HUMAN_25_300_0/5u98_D_rec_5u98_1kx_lig_tt_min_0.sdf', '1B57_HUMAN_25_300_0/5u98_D_rec.pdb', 0.367042), ('1B57_HUMAN_25_300_0/3upr_C_rec_5u98_1kx_lig_tt_min_0_pocket10.pdb', '1B57_HUMAN_25_300_0/3upr_C_rec_5u98_1kx_lig_tt_min_0.sdf', '1B57_HUMAN_25_300_0/3upr_C_rec.pdb', 0.402512), ('1B57_HUMAN_25_300_0/3vri_A_rec_3vri_1kx_lig_tt_min_0_pocket10.pdb', '1B57_HUMAN_25_300_0/3vri_A_rec_3vri_1kx_lig_tt_min_0.sdf', '1B57_HUMAN_25_300_0/3vri_A_rec.pdb', 0.384664), ('1B57_HUMAN_25_300_0/3upr_C_rec_3vri_1kx_lig_tt_min_0_pocket10.pdb', '1B57_HUMAN_25_300_0/3upr_C_rec_3vri_1kx_lig_tt_min_0.sdf', '1B57_HUMAN_25_300_0/3upr_C_rec.pdb', 0.360588), ('1B57_HUMAN_25_300_0/3upr_C_rec_5u98_1kx_lig_tt_docked_3_pocket10.pdb', '1B57_HUMAN_25_300_0/3upr_C_rec_5u98_1kx_lig_tt_docked_3.sdf', '1B57_HUMAN_25_300_0/3upr_C_rec.pdb', 0.705207)]\n",
      "Structure of 5 entry: [('1B57_HUMAN_25_300_0/5u98_D_rec_5u98_1kx_lig_tt_min_0_pocket10.pdb', '1B57_HUMAN_25_300_0/5u98_D_rec_5u98_1kx_lig_tt_min_0.sdf', '1B57_HUMAN_25_300_0/5u98_D_rec.pdb', 0.367042), ('1B57_HUMAN_25_300_0/3upr_C_rec_5u98_1kx_lig_tt_min_0_pocket10.pdb', '1B57_HUMAN_25_300_0/3upr_C_rec_5u98_1kx_lig_tt_min_0.sdf', '1B57_HUMAN_25_300_0/3upr_C_rec.pdb', 0.402512), ('1B57_HUMAN_25_300_0/3vri_A_rec_3vri_1kx_lig_tt_min_0_pocket10.pdb', '1B57_HUMAN_25_300_0/3vri_A_rec_3vri_1kx_lig_tt_min_0.sdf', '1B57_HUMAN_25_300_0/3vri_A_rec.pdb', 0.384664), ('1B57_HUMAN_25_300_0/3upr_C_rec_3vri_1kx_lig_tt_min_0_pocket10.pdb', '1B57_HUMAN_25_300_0/3upr_C_rec_3vri_1kx_lig_tt_min_0.sdf', '1B57_HUMAN_25_300_0/3upr_C_rec.pdb', 0.360588)]\n"
     ]
    }
   ],
   "source": [
    "import pickle\n",
    "with open(\"data/crossdocked_pocket10/index.pkl\", \"rb\") as f:\n",
    "    index_data = pickle.load(f)\n",
    "    print(f\"Number of entries: {len(index_data)}\")\n",
    "    print(f\"First few entries: {index_data[:5]}\")\n",
    "    print(f\"Structure of 5 entry: {index_data[0:4]}\")"
   ]
  },
  {
   "cell_type": "code",
   "execution_count": null,
   "id": "bcb7aa3f",
   "metadata": {},
   "outputs": [
    {
     "name": "stdout",
     "output_type": "stream",
     "text": [
      "Bắt đầu kiểm tra tính hợp lệ của CrossDock database...\n",
      "Đã load 184057 entries từ data\\crossdocked_pocket10\\index.pkl\n",
      "\n",
      "Tổng samples: 184057\n",
      "Valid: 0 (0.0%)\n",
      "Invalid: 184057 (100.0%)\n",
      "Empty ligand samples: 17587\n",
      "Empty pocket samples: 17674\n",
      "\n",
      "Empty ligand samples (index, name):\n",
      "  - Index 264 (AAKB1_HUMAN_70_159_0/5ufu_B_rec_5ufu_85v_lig_tt_min_0_pocket10.pdb_AAKB1_HUMAN_70_159_0/5ufu_B_rec_5ufu_85v_lig_tt_min_0.sdf)\n",
      "  - Index 268 (AAKB1_HUMAN_70_159_0/5ezv_B_rec_5ufu_85v_lig_tt_min_0_pocket10.pdb_AAKB1_HUMAN_70_159_0/5ezv_B_rec_5ufu_85v_lig_tt_min_0.sdf)\n",
      "  - Index 269 (AAKB1_HUMAN_70_159_0/5ezv_B_rec_4cfe_992_lig_tt_docked_0_pocket10.pdb_AAKB1_HUMAN_70_159_0/5ezv_B_rec_4cfe_992_lig_tt_docked_0.sdf)\n",
      "  - Index 270 (AAKB1_HUMAN_70_159_0/5ufu_B_rec_5ufu_85v_lig_tt_docked_0_pocket10.pdb_AAKB1_HUMAN_70_159_0/5ufu_B_rec_5ufu_85v_lig_tt_docked_0.sdf)\n",
      "  - Index 272 (AAKB1_HUMAN_70_159_0/5ezv_B_rec_5ufu_85v_lig_tt_docked_1_pocket10.pdb_AAKB1_HUMAN_70_159_0/5ezv_B_rec_5ufu_85v_lig_tt_docked_1.sdf)\n",
      "  - Index 278 (AAKB1_HUMAN_70_159_0/5kq5_B_rec_5ufu_85v_lig_tt_docked_0_pocket10.pdb_AAKB1_HUMAN_70_159_0/5kq5_B_rec_5ufu_85v_lig_tt_docked_0.sdf)\n",
      "  - Index 285 (AAKB1_HUMAN_70_159_0/5t5t_B_rec_4cfe_992_lig_tt_docked_0_pocket10.pdb_AAKB1_HUMAN_70_159_0/5t5t_B_rec_4cfe_992_lig_tt_docked_0.sdf)\n",
      "  - Index 322 (ACCC_ECOLI_1_449_catalytic_0/3g8d_B_rec_3g8c_btn_lig_tt_min_0_pocket10.pdb_ACCC_ECOLI_1_449_catalytic_0/3g8d_B_rec_3g8c_btn_lig_tt_min_0.sdf)\n",
      "  - Index 345 (ACES_MOUSE_32_575_0/2gyw_B_rec_2ha5_at3_lig_tt_min_0_pocket10.pdb_ACES_MOUSE_32_575_0/2gyw_B_rec_2ha5_at3_lig_tt_min_0.sdf)\n",
      "  - Index 347 (ACES_MOUSE_32_575_0/2wu4_A_rec_2ha7_etm_lig_tt_min_0_pocket10.pdb_ACES_MOUSE_32_575_0/2wu4_A_rec_2ha7_etm_lig_tt_min_0.sdf)\n",
      "  ... và 17577 samples khác\n",
      "\n",
      "Empty pocket samples (index, name):\n",
      "  - Index 264 (AAKB1_HUMAN_70_159_0/5ufu_B_rec_5ufu_85v_lig_tt_min_0_pocket10.pdb_AAKB1_HUMAN_70_159_0/5ufu_B_rec_5ufu_85v_lig_tt_min_0.sdf)\n",
      "  - Index 268 (AAKB1_HUMAN_70_159_0/5ezv_B_rec_5ufu_85v_lig_tt_min_0_pocket10.pdb_AAKB1_HUMAN_70_159_0/5ezv_B_rec_5ufu_85v_lig_tt_min_0.sdf)\n",
      "  - Index 269 (AAKB1_HUMAN_70_159_0/5ezv_B_rec_4cfe_992_lig_tt_docked_0_pocket10.pdb_AAKB1_HUMAN_70_159_0/5ezv_B_rec_4cfe_992_lig_tt_docked_0.sdf)\n",
      "  - Index 270 (AAKB1_HUMAN_70_159_0/5ufu_B_rec_5ufu_85v_lig_tt_docked_0_pocket10.pdb_AAKB1_HUMAN_70_159_0/5ufu_B_rec_5ufu_85v_lig_tt_docked_0.sdf)\n",
      "  - Index 272 (AAKB1_HUMAN_70_159_0/5ezv_B_rec_5ufu_85v_lig_tt_docked_1_pocket10.pdb_AAKB1_HUMAN_70_159_0/5ezv_B_rec_5ufu_85v_lig_tt_docked_1.sdf)\n",
      "  - Index 278 (AAKB1_HUMAN_70_159_0/5kq5_B_rec_5ufu_85v_lig_tt_docked_0_pocket10.pdb_AAKB1_HUMAN_70_159_0/5kq5_B_rec_5ufu_85v_lig_tt_docked_0.sdf)\n",
      "  - Index 285 (AAKB1_HUMAN_70_159_0/5t5t_B_rec_4cfe_992_lig_tt_docked_0_pocket10.pdb_AAKB1_HUMAN_70_159_0/5t5t_B_rec_4cfe_992_lig_tt_docked_0.sdf)\n",
      "  - Index 322 (ACCC_ECOLI_1_449_catalytic_0/3g8d_B_rec_3g8c_btn_lig_tt_min_0_pocket10.pdb_ACCC_ECOLI_1_449_catalytic_0/3g8d_B_rec_3g8c_btn_lig_tt_min_0.sdf)\n",
      "  - Index 345 (ACES_MOUSE_32_575_0/2gyw_B_rec_2ha5_at3_lig_tt_min_0_pocket10.pdb_ACES_MOUSE_32_575_0/2gyw_B_rec_2ha5_at3_lig_tt_min_0.sdf)\n",
      "  - Index 347 (ACES_MOUSE_32_575_0/2wu4_A_rec_2ha7_etm_lig_tt_min_0_pocket10.pdb_ACES_MOUSE_32_575_0/2wu4_A_rec_2ha7_etm_lig_tt_min_0.sdf)\n",
      "  ... và 17664 samples khác\n",
      "\n",
      "Invalid samples (index, name, reason):\n",
      "  - Index 0 (1B57_HUMAN_25_300_0/5u98_D_rec_5u98_1kx_lig_tt_min_0_pocket10.pdb_1B57_HUMAN_25_300_0/5u98_D_rec_5u98_1kx_lig_tt_min_0.sdf): Build/Sanitize molecule failed for data\\crossdocked_pocket10\\1B57_HUMAN_25_300_0\\5u98_D_rec_5u98_1kx_lig_tt_min_0.sdf: 'numpy.ndarray' object has no attribute 'unsqueeze'\n",
      "  - Index 1 (1B57_HUMAN_25_300_0/3upr_C_rec_5u98_1kx_lig_tt_min_0_pocket10.pdb_1B57_HUMAN_25_300_0/3upr_C_rec_5u98_1kx_lig_tt_min_0.sdf): Build/Sanitize molecule failed for data\\crossdocked_pocket10\\1B57_HUMAN_25_300_0\\3upr_C_rec_5u98_1kx_lig_tt_min_0.sdf: 'numpy.ndarray' object has no attribute 'unsqueeze'\n",
      "  - Index 2 (1B57_HUMAN_25_300_0/3vri_A_rec_3vri_1kx_lig_tt_min_0_pocket10.pdb_1B57_HUMAN_25_300_0/3vri_A_rec_3vri_1kx_lig_tt_min_0.sdf): Build/Sanitize molecule failed for data\\crossdocked_pocket10\\1B57_HUMAN_25_300_0\\3vri_A_rec_3vri_1kx_lig_tt_min_0.sdf: 'numpy.ndarray' object has no attribute 'unsqueeze'\n",
      "  - Index 3 (1B57_HUMAN_25_300_0/3upr_C_rec_3vri_1kx_lig_tt_min_0_pocket10.pdb_1B57_HUMAN_25_300_0/3upr_C_rec_3vri_1kx_lig_tt_min_0.sdf): Build/Sanitize molecule failed for data\\crossdocked_pocket10\\1B57_HUMAN_25_300_0\\3upr_C_rec_3vri_1kx_lig_tt_min_0.sdf: 'numpy.ndarray' object has no attribute 'unsqueeze'\n",
      "  - Index 4 (1B57_HUMAN_25_300_0/3upr_C_rec_5u98_1kx_lig_tt_docked_3_pocket10.pdb_1B57_HUMAN_25_300_0/3upr_C_rec_5u98_1kx_lig_tt_docked_3.sdf): Build/Sanitize molecule failed for data\\crossdocked_pocket10\\1B57_HUMAN_25_300_0\\3upr_C_rec_5u98_1kx_lig_tt_docked_3.sdf: 'numpy.ndarray' object has no attribute 'unsqueeze'\n",
      "  - Index 5 (3HAO_CUPMC_1_172_0/4wzc_A_rec_4hsl_3ha_lig_tt_min_0_pocket10.pdb_3HAO_CUPMC_1_172_0/4wzc_A_rec_4hsl_3ha_lig_tt_min_0.sdf): Build/Sanitize molecule failed for data\\crossdocked_pocket10\\3HAO_CUPMC_1_172_0\\4wzc_A_rec_4hsl_3ha_lig_tt_min_0.sdf: 'numpy.ndarray' object has no attribute 'unsqueeze'\n",
      "  - Index 6 (1B57_HUMAN_25_300_0/3vrj_A_rec_3vri_1kx_lig_tt_docked_1_pocket10.pdb_1B57_HUMAN_25_300_0/3vrj_A_rec_3vri_1kx_lig_tt_docked_1.sdf): Build/Sanitize molecule failed for data\\crossdocked_pocket10\\1B57_HUMAN_25_300_0\\3vrj_A_rec_3vri_1kx_lig_tt_docked_1.sdf: 'numpy.ndarray' object has no attribute 'unsqueeze'\n",
      "  - Index 7 (1B57_HUMAN_25_300_0/5u98_D_rec_3upr_1kx_lig_tt_docked_1_pocket10.pdb_1B57_HUMAN_25_300_0/5u98_D_rec_3upr_1kx_lig_tt_docked_1.sdf): Build/Sanitize molecule failed for data\\crossdocked_pocket10\\1B57_HUMAN_25_300_0\\5u98_D_rec_3upr_1kx_lig_tt_docked_1.sdf: 'numpy.ndarray' object has no attribute 'unsqueeze'\n",
      "  - Index 8 (3HAO_CUPMC_1_172_0/4hvr_A_rec_1yfw_4aa_lig_tt_min_0_pocket10.pdb_3HAO_CUPMC_1_172_0/4hvr_A_rec_1yfw_4aa_lig_tt_min_0.sdf): Build/Sanitize molecule failed for data\\crossdocked_pocket10\\3HAO_CUPMC_1_172_0\\4hvr_A_rec_1yfw_4aa_lig_tt_min_0.sdf: 'numpy.ndarray' object has no attribute 'unsqueeze'\n",
      "  - Index 9 (3HAO_CUPMC_1_172_0/4hsj_A_rec_1yfw_4aa_lig_tt_min_0_pocket10.pdb_3HAO_CUPMC_1_172_0/4hsj_A_rec_1yfw_4aa_lig_tt_min_0.sdf): Build/Sanitize molecule failed for data\\crossdocked_pocket10\\3HAO_CUPMC_1_172_0\\4hsj_A_rec_1yfw_4aa_lig_tt_min_0.sdf: 'numpy.ndarray' object has no attribute 'unsqueeze'\n",
      "  ... và 184047 samples khác\n",
      "\n",
      "Kiểm tra hoàn tất. Chi tiết log ở 'check_crossdock_validity.log'\n"
     ]
    }
   ],
   "source": [
    "import numpy as np\n",
    "import torch\n",
    "from pathlib import Path\n",
    "import pickle\n",
    "import logging\n",
    "from tqdm import tqdm\n",
    "from Bio.PDB import PDBParser\n",
    "from Bio.PDB.Polypeptide import is_aa\n",
    "from rdkit import Chem\n",
    "from rdkit import RDLogger\n",
    "RDLogger.DisableLog('rdApp.*')\n",
    "\n",
    "from src.utils.constants import dataset_params\n",
    "from src.utils.molecule_builder import build_molecule\n",
    "\n",
    "# Thiết lập logging\n",
    "logging.basicConfig(filename='check_crossdock_validity.log', level=logging.INFO,\n",
    "                    format='%(asctime)s - %(levelname)s - %(message)s')\n",
    "\n",
    "def check_ligand_and_pocket(pdbfile, sdffile, atom_dict, dist_cutoff=8.0):\n",
    "\n",
    "    status = {'valid': False, 'reason': '', 'lig_atoms': 0, 'pocket_atoms': 0, 'build_success': False}\n",
    "\n",
    "    try:\n",
    "        pdb_struct = PDBParser(QUIET=True).get_structure('', str(pdbfile))\n",
    "        if not pdb_struct.get_chains():\n",
    "            status['reason'] = f\"No chains in PDB: {pdbfile}\"\n",
    "            return status\n",
    "    except Exception as e:\n",
    "        status['reason'] = f\"Failed to parse PDB {pdbfile}: {str(e)}\"\n",
    "        return status\n",
    "\n",
    "    try:\n",
    "        ligand = Chem.SDMolSupplier(str(sdffile), sanitize=False)[0]\n",
    "        if ligand is None:\n",
    "            status['reason'] = f\"No valid molecule in SDF: {sdffile}\"\n",
    "            return status\n",
    "        try:\n",
    "            Chem.SanitizeMol(ligand)\n",
    "        except ValueError as e:\n",
    "            status['reason'] = f\"Sanitize failed for SDF {sdffile}: {str(e)}\"\n",
    "            return status\n",
    "    except Exception as e:\n",
    "        status['reason'] = f\"Cannot read SDF {sdffile}: {str(e)}\"\n",
    "        return status\n",
    "\n",
    "    lig_atoms = [a.GetSymbol().capitalize() for a in ligand.GetAtoms()\n",
    "                 if a.GetSymbol().capitalize() in atom_dict]\n",
    "    lig_coords = np.array([ligand.GetConformer(0).GetAtomPosition(idx)\n",
    "                           for idx in range(ligand.GetNumAtoms())])\n",
    "    status['lig_atoms'] = len(lig_atoms)\n",
    "    if status['lig_atoms'] == 0:\n",
    "        status['reason'] = f\"Empty valid atoms in ligand {sdffile} (all H or invalid atoms)\"\n",
    "        return status\n",
    "\n",
    "    pocket_residues = []\n",
    "    try:\n",
    "        for residue in pdb_struct[0].get_residues():\n",
    "            res_coords = np.array([a.get_coord() for a in residue.get_atoms()])\n",
    "            if len(res_coords) == 0 or len(lig_coords) == 0:\n",
    "                continue\n",
    "            min_dist = np.min(np.sqrt(np.sum((res_coords[:, None, :] - lig_coords[None, :, :])**2, axis=-1)))\n",
    "            if is_aa(residue.get_resname(), standard=True) and min_dist < dist_cutoff:\n",
    "                pocket_residues.append(residue)\n",
    "    except Exception as e:\n",
    "        status['reason'] = f\"Error computing pocket residues for {pdbfile}: {str(e)}\"\n",
    "        return status\n",
    "\n",
    "    if not pocket_residues:\n",
    "        status['reason'] = f\"No pocket residues within {dist_cutoff}A of ligand in {pdbfile}\"\n",
    "        return status\n",
    "\n",
    "    try:\n",
    "        full_atoms = np.concatenate(\n",
    "            [np.array([atom.element.capitalize() for atom in res.get_atoms()])\n",
    "             for res in pocket_residues], axis=0)\n",
    "        full_coords = np.concatenate(\n",
    "            [np.array([atom.coord for atom in res.get_atoms()])\n",
    "             for res in pocket_residues], axis=0)\n",
    "        status['pocket_atoms'] = len(full_atoms)\n",
    "        if status['pocket_atoms'] == 0:\n",
    "            status['reason'] = f\"Empty pocket atoms in {pdbfile}\"\n",
    "            return status\n",
    "    except Exception as e:\n",
    "        status['reason'] = f\"Error processing pocket atoms for {pdbfile}: {str(e)}\"\n",
    "        return status\n",
    "\n",
    "    try:\n",
    "        atom_types = np.array([atom_dict[atm] for atm in lig_atoms])\n",
    "        lig_coords_torch = torch.tensor(lig_coords, dtype=torch.float32)\n",
    "        atom_types_torch = torch.tensor(atom_types, dtype=torch.int64)\n",
    "        mol = build_molecule(lig_coords_torch, atom_types_torch, dataset_params['crossdock_full'], add_coords=True, use_openbabel=False)\n",
    "        if mol is None:\n",
    "            status['reason'] = f\"Build molecule failed for {sdffile}\"\n",
    "            return status\n",
    "        Chem.SanitizeMol(mol)\n",
    "        status['build_success'] = True\n",
    "    except Exception as e:\n",
    "        status['reason'] = f\"Build/Sanitize molecule failed for {sdffile}: {str(e)}\"\n",
    "        return status\n",
    "\n",
    "    status['valid'] = True\n",
    "    status['reason'] = \"All checks passed\"\n",
    "    return status\n",
    "\n",
    "def check_crossdock_database(index_path, data_dir, atom_dict, dist_cutoff=8.0):\n",
    "    if not index_path.exists():\n",
    "        print(f\"File {index_path} không tồn tại!\")\n",
    "        logging.error(f\"File {index_path} không tồn tại!\")\n",
    "        return\n",
    "\n",
    "    try:\n",
    "        with open(index_path, 'rb') as f:\n",
    "            index_data = pickle.load(f)\n",
    "        print(f\"Đã load {len(index_data)} entries từ {index_path}\")\n",
    "        logging.info(f\"Đã load {len(index_data)} entries từ {index_path}\")\n",
    "\n",
    "        invalid_samples = []\n",
    "        empty_ligand_samples = []\n",
    "        empty_pocket_samples = []\n",
    "        valid_count = 0\n",
    "        invalid_count = 0\n",
    "        empty_lig_count = 0\n",
    "        empty_pocket_count = 0\n",
    "\n",
    "        # Thanh tiến trình\n",
    "        pbar = tqdm(index_data, total=len(index_data), desc=\"Processing samples\")\n",
    "\n",
    "        for i, entry in enumerate(pbar):\n",
    "            if not isinstance(entry, (list, tuple)) or len(entry) < 2:\n",
    "                logging.warning(f\"Invalid entry at index {i}: {entry}\")\n",
    "                invalid_samples.append((i, f\"Invalid entry: {entry}\"))\n",
    "                invalid_count += 1\n",
    "                pbar.set_postfix(valid=valid_count, invalid=invalid_count,\n",
    "                                 empty_lig=empty_lig_count, empty_pocket=empty_pocket_count)\n",
    "                continue\n",
    "\n",
    "            pocket_fn, ligand_fn = entry[0], entry[1]\n",
    "            pdbfile = data_dir / f'{pocket_fn}'\n",
    "            sdffile = data_dir / f'{ligand_fn}'\n",
    "            sample_id = f\"{pocket_fn}_{ligand_fn}\"\n",
    "\n",
    "            status = check_ligand_and_pocket(pdbfile, sdffile, atom_dict, dist_cutoff)\n",
    "\n",
    "            if status['valid']:\n",
    "                valid_count += 1\n",
    "                logging.info(f\"Sample {i} ({sample_id}): VALID - lig={status['lig_atoms']}, pocket={status['pocket_atoms']}, build={status['build_success']}\")\n",
    "            else:\n",
    "                invalid_samples.append((i, sample_id, status['reason']))\n",
    "                logging.warning(f\"Sample {i} ({sample_id}): INVALID - {status['reason']}\")\n",
    "                invalid_count += 1\n",
    "                if status['lig_atoms'] == 0:\n",
    "                    empty_ligand_samples.append((i, sample_id))\n",
    "                    empty_lig_count += 1\n",
    "                if status['pocket_atoms'] == 0:\n",
    "                    empty_pocket_samples.append((i, sample_id))\n",
    "                    empty_pocket_count += 1\n",
    "\n",
    "            # Cập nhật thanh tiến trình\n",
    "            pbar.set_postfix(valid=valid_count, invalid=invalid_count,\n",
    "                             empty_lig=empty_lig_count, empty_pocket=empty_pocket_count)\n",
    "\n",
    "        # Báo cáo\n",
    "        total = len(index_data)\n",
    "        print(f\"\\nTổng samples: {total}\")\n",
    "        print(f\"Valid: {valid_count} ({valid_count/total*100:.1f}%)\")\n",
    "        print(f\"Invalid: {invalid_count} ({invalid_count/total*100:.1f}%)\")\n",
    "        print(f\"Empty ligand samples: {len(empty_ligand_samples)}\")\n",
    "        print(f\"Empty pocket samples: {len(empty_pocket_samples)}\")\n",
    "        if empty_ligand_samples:\n",
    "            print(\"\\nEmpty ligand samples (index, name):\")\n",
    "            for inv in empty_ligand_samples[:10]:\n",
    "                print(f\"  - Index {inv[0]} ({inv[1]})\")\n",
    "            if len(empty_ligand_samples) > 10:\n",
    "                print(f\"  ... và {len(empty_ligand_samples)-10} samples khác\")\n",
    "        if empty_pocket_samples:\n",
    "            print(\"\\nEmpty pocket samples (index, name):\")\n",
    "            for inv in empty_pocket_samples[:10]:\n",
    "                print(f\"  - Index {inv[0]} ({inv[1]})\")\n",
    "            if len(empty_pocket_samples) > 10:\n",
    "                print(f\"  ... và {len(empty_pocket_samples)-10} samples khác\")\n",
    "        if invalid_samples:\n",
    "            print(\"\\nInvalid samples (index, name, reason):\")\n",
    "            for inv in invalid_samples[:10]:\n",
    "                print(f\"  - Index {inv[0]} ({inv[1]}): {inv[2]}\")\n",
    "            if len(invalid_samples) > 10:\n",
    "                print(f\"  ... và {len(invalid_samples)-10} samples khác\")\n",
    "\n",
    "        logging.info(f\"Kiểm tra xong: {valid_count} valid, {invalid_count} invalid, \"\n",
    "                     f\"{len(empty_ligand_samples)} empty ligand, {len(empty_pocket_samples)} empty pocket\")\n",
    "\n",
    "    except Exception as e:\n",
    "        print(f\"Lỗi khi xử lý {index_path}: {str(e)}\")\n",
    "        logging.error(f\"Lỗi khi xử lý {index_path}: {str(e)}\")\n",
    "\n",
    "data_dir = Path('crossdocked_pocket10')  \n",
    "index_path = data_dir / 'index.pkl'\n",
    "atom_dict = dataset_params['crossdock_full']['atom_encoder']\n",
    "dist_cutoff = 8.0\n",
    "\n",
    "print(\"Check CrossDock database...\")\n",
    "check_crossdock_database(index_path, data_dir, atom_dict, dist_cutoff)\n",
    "\n",
    "print(\"\\n'check_crossdock_validity.log'\")"
   ]
  },
  {
   "cell_type": "code",
   "execution_count": null,
   "id": "72b391db",
   "metadata": {},
   "outputs": [],
   "source": []
  }
 ],
 "metadata": {
  "kernelspec": {
   "display_name": "lab314",
   "language": "python",
   "name": "python3"
  },
  "language_info": {
   "codemirror_mode": {
    "name": "ipython",
    "version": 3
   },
   "file_extension": ".py",
   "mimetype": "text/x-python",
   "name": "python",
   "nbconvert_exporter": "python",
   "pygments_lexer": "ipython3",
   "version": "3.10.16"
  }
 },
 "nbformat": 4,
 "nbformat_minor": 5
}

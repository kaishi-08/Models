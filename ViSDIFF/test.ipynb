{
 "cells": [
  {
   "cell_type": "code",
   "execution_count": 1,
   "id": "dd6d6667",
   "metadata": {},
   "outputs": [
    {
     "name": "stdout",
     "output_type": "stream",
     "text": [
      "2.4.0\n",
      "None\n",
      "False\n"
     ]
    }
   ],
   "source": [
    "import torch\n",
    "print(torch.__version__)\n",
    "print(torch.version.cuda)\n",
    "print(torch.cuda.is_available())"
   ]
  },
  {
   "cell_type": "code",
   "execution_count": 3,
   "id": "9ff87016",
   "metadata": {},
   "outputs": [
    {
     "name": "stdout",
     "output_type": "stream",
     "text": [
      "2.1.2+pt24cpu\n"
     ]
    }
   ],
   "source": [
    "import torch_scatter\n",
    "print(torch_scatter.__version__)"
   ]
  },
  {
   "cell_type": "code",
   "execution_count": 3,
   "id": "27c688aa",
   "metadata": {},
   "outputs": [
    {
     "data": {
      "text/plain": [
       "'A'"
      ]
     },
     "execution_count": 3,
     "metadata": {},
     "output_type": "execute_result"
    }
   ],
   "source": [
    "from Bio.SeqUtils import seq1\n",
    "\n",
    "seq1(\"ALA\")\n"
   ]
  },
  {
   "cell_type": "code",
   "execution_count": 3,
   "id": "35e8af25",
   "metadata": {},
   "outputs": [
    {
     "name": "stdout",
     "output_type": "stream",
     "text": [
      "Thư mục hiện tại: d:\\Học tập\\Lab314\\KhoaLuan\\MODELS\\Models\\ViSDIFF\n",
      "sys.path: ['c:\\\\Users\\\\admin\\\\anaconda3\\\\envs\\\\lab314\\\\python310.zip', 'c:\\\\Users\\\\admin\\\\anaconda3\\\\envs\\\\lab314\\\\DLLs', 'c:\\\\Users\\\\admin\\\\anaconda3\\\\envs\\\\lab314\\\\lib', 'c:\\\\Users\\\\admin\\\\anaconda3\\\\envs\\\\lab314', '', 'c:\\\\Users\\\\admin\\\\anaconda3\\\\envs\\\\lab314\\\\lib\\\\site-packages', 'c:\\\\Users\\\\admin\\\\anaconda3\\\\envs\\\\lab314\\\\lib\\\\site-packages\\\\win32', 'c:\\\\Users\\\\admin\\\\anaconda3\\\\envs\\\\lab314\\\\lib\\\\site-packages\\\\win32\\\\lib', 'c:\\\\Users\\\\admin\\\\anaconda3\\\\envs\\\\lab314\\\\lib\\\\site-packages\\\\Pythonwin']\n",
      "Lỗi import: No module named 'utils'\n"
     ]
    }
   ],
   "source": [
    "import sys\n",
    "import os\n",
    "# In thư mục hiện tại và sys.path để kiểm tra\n",
    "print(\"Thư mục hiện tại:\", os.getcwd())\n",
    "print(\"sys.path:\", sys.path)\n",
    "# Thử import module\n",
    "try:\n",
    "    from src.utils.molecule_builder import build_molecule\n",
    "    print(\"Import thành công!\")\n",
    "except ModuleNotFoundError as e:\n",
    "    print(\"Lỗi import:\", e)"
   ]
  },
  {
   "cell_type": "code",
   "execution_count": 1,
   "id": "5a0cda02",
   "metadata": {},
   "outputs": [
    {
     "ename": "ImportError",
     "evalue": "cannot import name 'molecule_builder' from partially initialized module 'src' (most likely due to a circular import) (d:\\Học tập\\Lab314\\KhoaLuan\\MODELS\\Models\\ViSDIFF\\src\\__init__.py)",
     "output_type": "error",
     "traceback": [
      "\u001b[1;31m---------------------------------------------------------------------------\u001b[0m",
      "\u001b[1;31mImportError\u001b[0m                               Traceback (most recent call last)",
      "Cell \u001b[1;32mIn[1], line 1\u001b[0m\n\u001b[1;32m----> 1\u001b[0m \u001b[38;5;28;01mfrom\u001b[39;00m \u001b[38;5;21;01msrc\u001b[39;00m\u001b[38;5;21;01m.\u001b[39;00m\u001b[38;5;21;01mutils\u001b[39;00m\u001b[38;5;21;01m.\u001b[39;00m\u001b[38;5;21;01mmolecule_builder\u001b[39;00m \u001b[38;5;28;01mimport\u001b[39;00m bond_dict\n\u001b[0;32m      2\u001b[0m bond_dict\n",
      "File \u001b[1;32md:\\Học tập\\Lab314\\KhoaLuan\\MODELS\\Models\\ViSDIFF\\src\\__init__.py:1\u001b[0m\n\u001b[1;32m----> 1\u001b[0m \u001b[38;5;28;01mfrom\u001b[39;00m \u001b[38;5;21;01m.\u001b[39;00m\u001b[38;5;21;01mutils\u001b[39;00m \u001b[38;5;28;01mimport\u001b[39;00m utils, constants, metrics, molecule_builder\n",
      "File \u001b[1;32md:\\Học tập\\Lab314\\KhoaLuan\\MODELS\\Models\\ViSDIFF\\src\\utils\\metrics.py:7\u001b[0m\n\u001b[0;32m      4\u001b[0m \u001b[38;5;28;01mfrom\u001b[39;00m \u001b[38;5;21;01mrdkit\u001b[39;00m\u001b[38;5;21;01m.\u001b[39;00m\u001b[38;5;21;01mChem\u001b[39;00m \u001b[38;5;28;01mimport\u001b[39;00m Descriptors, Crippen, Lipinski, QED\n\u001b[0;32m      5\u001b[0m \u001b[38;5;66;03m#from analysis.SA_Score.sascorer import calculateScore\u001b[39;00m\n\u001b[1;32m----> 7\u001b[0m \u001b[38;5;28;01mfrom\u001b[39;00m \u001b[38;5;21;01msrc\u001b[39;00m \u001b[38;5;28;01mimport\u001b[39;00m molecule_builder\n\u001b[0;32m      8\u001b[0m \u001b[38;5;28;01mfrom\u001b[39;00m \u001b[38;5;21;01mmolecule_builder\u001b[39;00m \u001b[38;5;28;01mimport\u001b[39;00m build_molecule\n\u001b[0;32m      9\u001b[0m \u001b[38;5;28;01mfrom\u001b[39;00m \u001b[38;5;21;01mcopy\u001b[39;00m \u001b[38;5;28;01mimport\u001b[39;00m deepcopy\n",
      "\u001b[1;31mImportError\u001b[0m: cannot import name 'molecule_builder' from partially initialized module 'src' (most likely due to a circular import) (d:\\Học tập\\Lab314\\KhoaLuan\\MODELS\\Models\\ViSDIFF\\src\\__init__.py)"
     ]
    }
   ],
   "source": [
    "from src.utils.molecule_builder import bond_dict\n",
    "bond_dict"
   ]
  },
  {
   "cell_type": "code",
   "execution_count": 3,
   "id": "efb288d1",
   "metadata": {},
   "outputs": [
    {
     "name": "stdout",
     "output_type": "stream",
     "text": [
      "Number of entries: 184057\n",
      "First few entries: [('1B57_HUMAN_25_300_0/5u98_D_rec_5u98_1kx_lig_tt_min_0_pocket10.pdb', '1B57_HUMAN_25_300_0/5u98_D_rec_5u98_1kx_lig_tt_min_0.sdf', '1B57_HUMAN_25_300_0/5u98_D_rec.pdb', 0.367042), ('1B57_HUMAN_25_300_0/3upr_C_rec_5u98_1kx_lig_tt_min_0_pocket10.pdb', '1B57_HUMAN_25_300_0/3upr_C_rec_5u98_1kx_lig_tt_min_0.sdf', '1B57_HUMAN_25_300_0/3upr_C_rec.pdb', 0.402512), ('1B57_HUMAN_25_300_0/3vri_A_rec_3vri_1kx_lig_tt_min_0_pocket10.pdb', '1B57_HUMAN_25_300_0/3vri_A_rec_3vri_1kx_lig_tt_min_0.sdf', '1B57_HUMAN_25_300_0/3vri_A_rec.pdb', 0.384664), ('1B57_HUMAN_25_300_0/3upr_C_rec_3vri_1kx_lig_tt_min_0_pocket10.pdb', '1B57_HUMAN_25_300_0/3upr_C_rec_3vri_1kx_lig_tt_min_0.sdf', '1B57_HUMAN_25_300_0/3upr_C_rec.pdb', 0.360588), ('1B57_HUMAN_25_300_0/3upr_C_rec_5u98_1kx_lig_tt_docked_3_pocket10.pdb', '1B57_HUMAN_25_300_0/3upr_C_rec_5u98_1kx_lig_tt_docked_3.sdf', '1B57_HUMAN_25_300_0/3upr_C_rec.pdb', 0.705207)]\n",
      "Structure of 5 entry: [('1B57_HUMAN_25_300_0/5u98_D_rec_5u98_1kx_lig_tt_min_0_pocket10.pdb', '1B57_HUMAN_25_300_0/5u98_D_rec_5u98_1kx_lig_tt_min_0.sdf', '1B57_HUMAN_25_300_0/5u98_D_rec.pdb', 0.367042), ('1B57_HUMAN_25_300_0/3upr_C_rec_5u98_1kx_lig_tt_min_0_pocket10.pdb', '1B57_HUMAN_25_300_0/3upr_C_rec_5u98_1kx_lig_tt_min_0.sdf', '1B57_HUMAN_25_300_0/3upr_C_rec.pdb', 0.402512), ('1B57_HUMAN_25_300_0/3vri_A_rec_3vri_1kx_lig_tt_min_0_pocket10.pdb', '1B57_HUMAN_25_300_0/3vri_A_rec_3vri_1kx_lig_tt_min_0.sdf', '1B57_HUMAN_25_300_0/3vri_A_rec.pdb', 0.384664), ('1B57_HUMAN_25_300_0/3upr_C_rec_3vri_1kx_lig_tt_min_0_pocket10.pdb', '1B57_HUMAN_25_300_0/3upr_C_rec_3vri_1kx_lig_tt_min_0.sdf', '1B57_HUMAN_25_300_0/3upr_C_rec.pdb', 0.360588)]\n"
     ]
    }
   ],
   "source": [
    "import pickle\n",
    "with open(\"data/crossdocked_pocket10/index.pkl\", \"rb\") as f:\n",
    "    index_data = pickle.load(f)\n",
    "    print(f\"Number of entries: {len(index_data)}\")\n",
    "    print(f\"First few entries: {index_data[:5]}\")\n",
    "    print(f\"Structure of 5 entry: {index_data[0:4]}\")"
   ]
  },
  {
   "cell_type": "code",
   "execution_count": null,
   "id": "bcb7aa3f",
   "metadata": {},
   "outputs": [],
   "source": []
  }
 ],
 "metadata": {
  "kernelspec": {
   "display_name": "lab314",
   "language": "python",
   "name": "python3"
  },
  "language_info": {
   "codemirror_mode": {
    "name": "ipython",
    "version": 3
   },
   "file_extension": ".py",
   "mimetype": "text/x-python",
   "name": "python",
   "nbconvert_exporter": "python",
   "pygments_lexer": "ipython3",
   "version": "3.10.16"
  }
 },
 "nbformat": 4,
 "nbformat_minor": 5
}

{
 "cells": [
  {
   "cell_type": "code",
   "execution_count": null,
   "id": "acdfa0c7",
   "metadata": {},
   "outputs": [],
   "source": [
    "import torch\n",
    "import torch.nn as nn\n",
    "import torch.nn.functional as F\n",
    "from torch.nn import Linear, Embedding\n",
    "from torch_geometric.nn import MessagePassing\n",
    "from torch_geometric.data import Data\n",
    "import numpy as np\n",
    "import math\n",
    "from typing import Optional, Tuple, Dict, Any\n",
    "from rdkit import Chem\n",
    "import matplotlib.pyplot as plt\n",
    "from mpl_toolkits.mplot3d import Axes3D\n",
    "import seaborn as sns\n",
    "from pathlib import Path\n",
    "import warnings\n",
    "warnings.filterwarnings('ignore')"
   ]
  },
  {
   "cell_type": "code",
   "execution_count": null,
   "id": "98f67a9f",
   "metadata": {},
   "outputs": [],
   "source": [
    "class GaussianRadialBasisFunction(nn.Module):\n",
    "    \n",
    "    def __init__(self, num_rbf: int = 50, rbf_max: float = 10.0, rbf_min: float = 0.0):\n",
    "        super().__init__()\n",
    "        self.num_rbf = num_rbf\n",
    "        self.rbf_max = rbf_max\n",
    "        self.rbf_min = rbf_min\n",
    "        \n",
    "        # Centers and widths for Gaussian RBFs\n",
    "        centers = torch.linspace(rbf_min, rbf_max, num_rbf)\n",
    "        self.register_buffer('centers', centers)\n",
    "        \n",
    "        # Width parameter\n",
    "        self.width = (rbf_max - rbf_min) / (num_rbf - 1)\n",
    "        \n",
    "    def forward(self, distances: torch.Tensor) -> torch.Tensor:\n",
    "        \"\"\"\n",
    "        Args:\n",
    "            distances: (n_edges,) edge distances\n",
    "        Returns:\n",
    "            rbf_features: (n_edges, num_rbf) RBF encoded distances\n",
    "        \"\"\"\n",
    "        # Expand dimensions for broadcasting\n",
    "        d = distances.unsqueeze(-1)  # (n_edges, 1)\n",
    "        centers = self.centers.unsqueeze(0)  # (1, num_rbf)\n",
    "        \n",
    "        # Gaussian RBF\n",
    "        rbf = torch.exp(-((d - centers) / self.width) ** 2)\n",
    "        return rbf\n",
    "\n",
    "def spherical_harmonics_l1(pos: torch.Tensor) -> torch.Tensor:\n",
    "    # Normalize positions\n",
    "    pos_norm = torch.norm(pos, dim=-1, keepdim=True) + 1e-8\n",
    "    pos_normalized = pos / pos_norm\n",
    "    \n",
    "    x, y, z = pos_normalized[..., 0], pos_normalized[..., 1], pos_normalized[..., 2]\n",
    "    \n",
    "    # l=0: Y_0^0\n",
    "    Y_00 = torch.ones_like(x) * 0.28209479177  # 1/(2*sqrt(π))\n",
    "    \n",
    "    # l=1: Y_1^{-1}, Y_1^0, Y_1^1\n",
    "    Y_1m1 = 0.48860251190 * y  # sqrt(3/(4π)) * y\n",
    "    Y_10 = 0.48860251190 * z   # sqrt(3/(4π)) * z  \n",
    "    Y_11 = 0.48860251190 * x   # sqrt(3/(4π)) * x\n",
    "    \n",
    "    return torch.stack([Y_00, Y_1m1, Y_10, Y_11], dim=-1)"
   ]
  },
  {
   "cell_type": "markdown",
   "id": "554287f6",
   "metadata": {},
   "source": [
    "* Gaussian Radial Basis Function (RBF): Embedding  atom pair distance\n",
    "* Spherical Harmonics: Uses Low order spherical harmmonics (l = 0, 1 ) for encode directions (angular information) of vector"
   ]
  },
  {
   "cell_type": "code",
   "execution_count": null,
   "id": "39b29c26",
   "metadata": {},
   "outputs": [],
   "source": [
    " "
   ]
  }
 ],
 "metadata": {
  "kernelspec": {
   "display_name": "lab314",
   "language": "python",
   "name": "python3"
  },
  "language_info": {
   "codemirror_mode": {
    "name": "ipython",
    "version": 3
   },
   "file_extension": ".py",
   "mimetype": "text/x-python",
   "name": "python",
   "nbconvert_exporter": "python",
   "pygments_lexer": "ipython3",
   "version": "3.10.16"
  }
 },
 "nbformat": 4,
 "nbformat_minor": 5
}
